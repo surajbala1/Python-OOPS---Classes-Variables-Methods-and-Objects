{
 "cells": [
  {
   "cell_type": "markdown",
   "id": "a5b8aed1",
   "metadata": {},
   "source": [
    "## What Is Class ?"
   ]
  },
  {
   "cell_type": "markdown",
   "id": "481f8fb4",
   "metadata": {},
   "source": [
    "A Python class is like an outline for creating a new object. An object is anything that you wish to manipulate or change while working through the code. Every time a class object is instantiated, which is when we declare a variable, a new object is initiated from scratch."
   ]
  },
  {
   "cell_type": "markdown",
   "id": "47127d2b",
   "metadata": {},
   "source": [
    "## OOPS Tutorial In Python"
   ]
  },
  {
   "cell_type": "code",
   "execution_count": 1,
   "id": "7f5dcb70",
   "metadata": {},
   "outputs": [],
   "source": [
    "class car:\n",
    "    # pass # Here Pass Means empty class\n",
    "# This is bad way to create class, below are some output\n",
    "    def __init__(self,window,door,enginetype):\n",
    "        self.windows=window\n",
    "        self.doors=door\n",
    "        self.enginetype=enginetype\n",
    "    def self_driving(self):\n",
    "        return \"This is a {} car\".format(self.enginetype)"
   ]
  },
  {
   "cell_type": "code",
   "execution_count": 2,
   "id": "ca5be330",
   "metadata": {},
   "outputs": [],
   "source": [
    "car1=car(4,5,\"Diesel\")"
   ]
  },
  {
   "cell_type": "code",
   "execution_count": 3,
   "id": "1a26eeef",
   "metadata": {},
   "outputs": [],
   "source": [
    "car2=car(3,4,\"Petrol\")"
   ]
  },
  {
   "cell_type": "code",
   "execution_count": 4,
   "id": "5a4818e3",
   "metadata": {},
   "outputs": [
    {
     "name": "stdout",
     "output_type": "stream",
     "text": [
      "Diesel\n"
     ]
    }
   ],
   "source": [
    "print(car1.enginetype)"
   ]
  },
  {
   "cell_type": "code",
   "execution_count": 5,
   "id": "bcf8832c",
   "metadata": {},
   "outputs": [
    {
     "name": "stdout",
     "output_type": "stream",
     "text": [
      "Petrol\n"
     ]
    }
   ],
   "source": [
    "print(car2.enginetype)"
   ]
  },
  {
   "cell_type": "code",
   "execution_count": 6,
   "id": "5af26ab8",
   "metadata": {},
   "outputs": [
    {
     "data": {
      "text/plain": [
       "'This is a Petrol car'"
      ]
     },
     "execution_count": 6,
     "metadata": {},
     "output_type": "execute_result"
    }
   ],
   "source": [
    "car2.self_driving()"
   ]
  },
  {
   "cell_type": "code",
   "execution_count": 7,
   "id": "293fab6e",
   "metadata": {},
   "outputs": [
    {
     "data": {
      "text/plain": [
       "<__main__.car at 0x281bc704d00>"
      ]
     },
     "execution_count": 7,
     "metadata": {},
     "output_type": "execute_result"
    }
   ],
   "source": [
    "car1"
   ]
  },
  {
   "cell_type": "code",
   "execution_count": 8,
   "id": "ab9bb6a8",
   "metadata": {},
   "outputs": [],
   "source": [
    "car1.windows=5\n",
    "car1.doors=4"
   ]
  },
  {
   "cell_type": "code",
   "execution_count": 9,
   "id": "75f73870",
   "metadata": {},
   "outputs": [
    {
     "name": "stdout",
     "output_type": "stream",
     "text": [
      "4\n"
     ]
    }
   ],
   "source": [
    "print(car1.doors)"
   ]
  },
  {
   "cell_type": "code",
   "execution_count": 10,
   "id": "46a1b5a2",
   "metadata": {},
   "outputs": [],
   "source": [
    "Car2=car(10,20,\"Gas\")"
   ]
  },
  {
   "cell_type": "code",
   "execution_count": 11,
   "id": "cb1f45e4",
   "metadata": {},
   "outputs": [
    {
     "data": {
      "text/plain": [
       "<__main__.car at 0x281bc704b50>"
      ]
     },
     "execution_count": 11,
     "metadata": {},
     "output_type": "execute_result"
    }
   ],
   "source": [
    "Car2"
   ]
  },
  {
   "cell_type": "code",
   "execution_count": 12,
   "id": "8993632b",
   "metadata": {},
   "outputs": [],
   "source": [
    "Car2.enginetype=\"Petrol\""
   ]
  },
  {
   "cell_type": "code",
   "execution_count": 13,
   "id": "2ae3d044",
   "metadata": {},
   "outputs": [
    {
     "name": "stdout",
     "output_type": "stream",
     "text": [
      "Petrol\n"
     ]
    }
   ],
   "source": [
    "print(Car2.enginetype)"
   ]
  }
 ],
 "metadata": {
  "kernelspec": {
   "display_name": "Python 3 (ipykernel)",
   "language": "python",
   "name": "python3"
  },
  "language_info": {
   "codemirror_mode": {
    "name": "ipython",
    "version": 3
   },
   "file_extension": ".py",
   "mimetype": "text/x-python",
   "name": "python",
   "nbconvert_exporter": "python",
   "pygments_lexer": "ipython3",
   "version": "3.9.12"
  }
 },
 "nbformat": 4,
 "nbformat_minor": 5
}
